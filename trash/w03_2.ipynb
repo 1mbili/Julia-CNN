{
 "cells": [
  {
   "cell_type": "code",
   "execution_count": 1,
   "metadata": {},
   "outputs": [
    {
     "name": "stdout",
     "output_type": "stream",
     "text": [
      "Dual{Float64}[Dual(1, 2), Dual(3, 0)] = Dual{Float64}[Dual{Float64}(1.0, 2.0), Dual{Float64}(3.0, 0.0)]\n",
      "Dual{Float64}[1, 2, 3] = Dual{Float64}[Dual{Float64}(1.0, 0.0), Dual{Float64}(2.0, 0.0), Dual{Float64}(3.0, 0.0)]\n",
      "Dual(1, 2) * 3 = Dual{Int64}(3, 6)\n"
     ]
    },
    {
     "data": {
      "text/plain": [
       "hessian (generic function with 1 method)"
      ]
     },
     "metadata": {},
     "output_type": "display_data"
    }
   ],
   "source": [
    "# Zdefiniowanie struktury\n",
    "struct Dual{T <:Number} <:Number\n",
    "    v::T\n",
    "   dv::T\n",
    "end\n",
    "# Przeciążenie podstawowych operatorów\n",
    "import Base: +, -, *, /\n",
    "-(x::Dual)          = Dual(-x.v,       -x.dv)\n",
    "+(x::Dual, y::Dual) = Dual( x.v + y.v,  x.dv + y.dv)\n",
    "-(x::Dual, y::Dual) = Dual( x.v - y.v,  x.dv - y.dv)\n",
    "*(x::Dual, y::Dual) = Dual( x.v * y.v,  x.dv * y.v + x.v * y.dv)\n",
    "/(x::Dual, y::Dual) = Dual( x.v / y.v, (x.dv * y.v - x.v * y.dv)/y.v^2)\n",
    "# Przeciążenie podstawowych funkcji\n",
    "import Base: abs, sin, cos, tan, exp, sqrt, isless\n",
    "abs(x::Dual)  = Dual(abs(x.v),sign(x.v)*x.dv)\n",
    "sin(x::Dual)  = Dual(sin(x.v), cos(x.v)*x.dv)\n",
    "cos(x::Dual)  = Dual(cos(x.v),-sin(x.v)*x.dv)\n",
    "tan(x::Dual)  = Dual(tan(x.v), one(x.v)*x.dv + tan(x.v)^2*x.dv)\n",
    "exp(x::Dual)  = Dual(exp(x.v), exp(x.v)*x.dv)\n",
    "sqrt(x::Dual) = Dual(sqrt(x.v),.5/sqrt(x.v) * x.dv)\n",
    "isless(x::Dual, y::Dual) = x.v < y.v;\n",
    "# Promocja typów i konwersja\n",
    "import Base: convert, promote_rule\n",
    "convert(::Type{Dual{T}}, x::Dual) where T = Dual(convert(T, x.v), convert(T, x.dv))\n",
    "@show Dual{Float64}[Dual(1,2), Dual(3,0)];\n",
    "convert(::Type{Dual{T}}, x::Number) where T = Dual(convert(T, x), zero(T))\n",
    "@show Dual{Float64}[1, 2, 3];\n",
    "promote_rule(::Type{Dual{T}}, ::Type{R}) where {T,R} = Dual{promote_type(T,R)}\n",
    "@show Dual(1,2) * 3;\n",
    "# Pomocne funkcje\n",
    "import Base: show\n",
    "show(io::IO, x::Dual) = print(io, \"(\", x.v, \") + [\", x.dv, \"ϵ]\");\n",
    "value(x::Dual) = x.v;\n",
    "partials(x::Dual) = x.dv;\n",
    "ReLU(x) = max(zero(x), x)\n",
    "σ(x) = one(x) / (one(x) + exp(-x))\n",
    "tanh(x) = 2.0 / (one(x) + exp(-2.0x)) - one(x)\n",
    "ϵ = Dual(0., 1.)\n",
    "D = derivative(f, x) = partials(f(Dual(x, one(x))))\n",
    "J = function jacobian(f, args::Vector{T}) where {T <:Number}\n",
    "    jacobian_columns = Matrix{T}[]\n",
    "    \n",
    "    for i=1:length(args)\n",
    "        x = Dual{T}[]\n",
    "        for j=1:length(args)\n",
    "            if i == j\n",
    "                push!(x, Dual(args[j], one(args[j])))\n",
    "            else\n",
    "                push!(x, Dual(args[j], zero(args[j])))\n",
    "            end\n",
    "        end\n",
    "        column = partials.([f(x)...])\n",
    "        push!(jacobian_columns, column[:,:])\n",
    "    end\n",
    "    hcat(jacobian_columns...)\n",
    "end\n",
    "\n",
    "H = function hessian(f, args::Vector)\n",
    "    ∇f(x::Vector) = J(f, x)\n",
    "    J(∇f, args)\n",
    "end\n"
   ]
  },
  {
   "cell_type": "code",
   "execution_count": 5,
   "metadata": {},
   "outputs": [
    {
     "name": "stdout",
     "output_type": "stream",
     "text": [
      "0.8804369269715518\n",
      "[0.064][1.1826662488850403]\n"
     ]
    },
    {
     "data": {
      "text/plain": [
       "0.6257070881972635"
      ]
     },
     "metadata": {},
     "output_type": "display_data"
    }
   ],
   "source": [
    "mean_squared_loss(y::Vector, ŷ::Vector) = sum(0.5(y - ŷ).^2)\n",
    "fullyconnected(w::Vector, n::Number, m::Number, v::Vector, activation::Function) = activation.(reshape(w, n, m) * v)\n",
    "n1 = 6\n",
    "n2 = 6\n",
    "Wh  = randn(n1,2)\n",
    "Wh2 = randn(n2,n1)\n",
    "Wo  = randn(1,n2)\n",
    "dWh = similar(Wh)\n",
    "dWh2 = similar(Wh2)\n",
    "dWo = similar(Wo)\n",
    "x = [1.98;4.434]\n",
    "y = [0.064]\n",
    "E = Float64[]\n",
    "\n",
    "function net(x, wh, wh2, wo, y)\n",
    "    println(wh[1])\n",
    "    x̂ = fullyconnected(wh, n1, 2, x, σ)\n",
    "    x2 = fullyconnected(wh2, n2, n1, x̂, σ)\n",
    "    ŷ = fullyconnected(wo, 1, n2, x2, u -> u)\n",
    "    println(y, ŷ)\n",
    "    E = mean_squared_loss(y, ŷ)\n",
    "end\n",
    "Ei = net(x, Wh[:], Wh2[:], Wo[:], y)"
   ]
  },
  {
   "cell_type": "code",
   "execution_count": 8,
   "metadata": {},
   "outputs": [
    {
     "data": {
      "text/plain": [
       "(-1.1186662488850403) + [0.006851312753841444ϵ]"
      ]
     },
     "metadata": {},
     "output_type": "display_data"
    }
   ],
   "source": [
    "0.064 - Dual(1.1826662488850403, -0.006851312753841444)"
   ]
  },
  {
   "cell_type": "code",
   "execution_count": 6,
   "metadata": {},
   "outputs": [
    {
     "name": "stdout",
     "output_type": "stream",
     "text": [
      "(0.8804369269715518) + [1.0ϵ]\n",
      "[0.064]Dual{Float64}[(1.1826662488850403) + [-0.006851312753841444ϵ]]\n",
      "(0.8804369269715518) + [0.0ϵ]\n",
      "[0.064]Dual{Float64}[(1.1826662488850403) + [4.10838852587308e-5ϵ]]\n",
      "(0.8804369269715518) + [0.0ϵ]\n",
      "[0.064]Dual{Float64}[(1.1826662488850403) + [0.0063187308009521725ϵ]]\n",
      "(0.8804369269715518) + [0.0ϵ]\n",
      "[0.064]Dual{Float64}[(1.1826662488850403) + [-0.042421940886825604ϵ]]\n",
      "(0.8804369269715518) + [0.0ϵ]\n",
      "[0.064]Dual{Float64}[(1.1826662488850403) + [0.0013880114189563978ϵ]]\n",
      "(0.8804369269715518) + [0.0ϵ]\n",
      "[0.064]Dual{Float64}[(1.1826662488850403) + [0.002706211227409685ϵ]]\n",
      "(0.8804369269715518) + [0.0ϵ]\n",
      "[0.064]Dual{Float64}[(1.1826662488850403) + [-0.015342788257844932ϵ]]\n",
      "(0.8804369269715518) + [0.0ϵ]\n",
      "[0.064]Dual{Float64}[(1.1826662488850403) + [9.200300365515778e-5ϵ]]\n",
      "(0.8804369269715518) + [0.0ϵ]\n",
      "[0.064]Dual{Float64}[(1.1826662488850403) + [0.014150127460314106ϵ]]\n",
      "(0.8804369269715518) + [0.0ϵ]\n",
      "[0.064]Dual{Float64}[(1.1826662488850403) + [-0.09499943731928523ϵ]]\n",
      "(0.8804369269715518) + [0.0ϵ]\n",
      "[0.064]Dual{Float64}[(1.1826662488850403) + [0.0031083043594205394ϵ]]\n",
      "(0.8804369269715518) + [0.0ϵ]\n",
      "[0.064]Dual{Float64}[(1.1826662488850403) + [0.006060273021381083ϵ]]\n",
      "0.8804369269715518\n",
      "[0.064]Dual{Float64}[(1.1826662488850403) + [-0.0025102637250146724ϵ]]\n",
      "0.8804369269715518\n",
      "[0.064]Dual{Float64}[(1.1826662488850403) + [-0.0044553924420408664ϵ]]\n",
      "0.8804369269715518\n",
      "[0.064]Dual{Float64}[(1.1826662488850403) + [0.015949990175599067ϵ]]\n",
      "0.8804369269715518\n",
      "[0.064]Dual{Float64}[(1.1826662488850403) + [0.007928718442191238ϵ]]\n",
      "0.8804369269715518\n",
      "[0.064]Dual{Float64}[(1.1826662488850403) + [0.011898386440928395ϵ]]\n",
      "0.8804369269715518\n",
      "[0.064]Dual{Float64}[(1.1826662488850403) + [-0.024411668693845517ϵ]]\n",
      "0.8804369269715518\n",
      "[0.064]Dual{Float64}[(1.1826662488850403) + [-0.028481391677607465ϵ]]\n",
      "0.8804369269715518\n",
      "[0.064]Dual{Float64}[(1.1826662488850403) + [-0.05055077518537469ϵ]]\n",
      "0.8804369269715518\n",
      "[0.064]Dual{Float64}[(1.1826662488850403) + [0.1809682038259039ϵ]]\n",
      "0.8804369269715518\n",
      "[0.064]Dual{Float64}[(1.1826662488850403) + [0.0899590482080517ϵ]]\n",
      "0.8804369269715518\n",
      "[0.064]Dual{Float64}[(1.1826662488850403) + [0.13499880557515315ϵ]]\n",
      "0.8804369269715518\n",
      "[0.064]Dual{Float64}[(1.1826662488850403) + [-0.2769742042021256ϵ]]\n",
      "0.8804369269715518\n",
      "[0.064]Dual{Float64}[(1.1826662488850403) + [-0.028239621078645184ϵ]]\n",
      "0.8804369269715518\n",
      "[0.064]Dual{Float64}[(1.1826662488850403) + [-0.05012166373840195ϵ]]\n",
      "0.8804369269715518\n",
      "[0.064]Dual{Float64}[(1.1826662488850403) + [0.17943201516183255ϵ]]\n",
      "0.8804369269715518\n",
      "[0.064]Dual{Float64}[(1.1826662488850403) + [0.0891954109106356ϵ]]\n",
      "0.8804369269715518\n",
      "[0.064]Dual{Float64}[(1.1826662488850403) + [0.1338528383256399ϵ]]\n",
      "0.8804369269715518\n",
      "[0.064]Dual{Float64}[(1.1826662488850403) + [-0.27462304734837895ϵ]]\n",
      "0.8804369269715518\n",
      "[0.064]Dual{Float64}[(1.1826662488850403) + [-0.02193415393602192ϵ]]\n",
      "0.8804369269715518\n",
      "[0.064]Dual{Float64}[(1.1826662488850403) + [-0.038930277602024374ϵ]]\n",
      "0.8804369269715518\n",
      "[0.064]Dual{Float64}[(1.1826662488850403) + [0.13936764344853142ϵ]]\n",
      "0.8804369269715518\n",
      "[0.064]Dual{Float64}[(1.1826662488850403) + [0.06927946617456779ϵ]]\n",
      "0.8804369269715518\n",
      "[0.064]Dual{Float64}[(1.1826662488850403) + [0.1039655862389813ϵ]]\n",
      "0.8804369269715518\n",
      "[0.064]Dual{Float64}[(1.1826662488850403) + [-0.21330400213740291ϵ]]\n",
      "0.8804369269715518\n",
      "[0.064]Dual{Float64}[(1.1826662488850403) + [-0.028304372681388607ϵ]]\n",
      "0.8804369269715518\n",
      "[0.064]Dual{Float64}[(1.1826662488850403) + [-0.0502365894327018ϵ]]\n",
      "0.8804369269715518\n",
      "[0.064]Dual{Float64}[(1.1826662488850403) + [0.1798434410280952ϵ]]\n",
      "0.8804369269715518\n",
      "[0.064]Dual{Float64}[(1.1826662488850403) + [0.08939993014967701ϵ]]\n",
      "0.8804369269715518\n",
      "[0.064]Dual{Float64}[(1.1826662488850403) + [0.13415975412274653ϵ]]\n",
      "0.8804369269715518\n",
      "[0.064]Dual{Float64}[(1.1826662488850403) + [-0.2752527400208326ϵ]]\n",
      "0.8804369269715518\n",
      "[0.064]Dual{Float64}[(1.1826662488850403) + [-0.00012784161389782058ϵ]]\n",
      "0.8804369269715518\n",
      "[0.064]Dual{Float64}[(1.1826662488850403) + [-0.00022690227909632373ϵ]]\n",
      "0.8804369269715518\n",
      "[0.064]Dual{Float64}[(1.1826662488850403) + [0.0008122941288533535ϵ]]\n",
      "0.8804369269715518\n",
      "[0.064]Dual{Float64}[(1.1826662488850403) + [0.0004037903076439577ϵ]]\n",
      "0.8804369269715518\n",
      "[0.064]Dual{Float64}[(1.1826662488850403) + [0.0006059558245735079ϵ]]\n",
      "0.8804369269715518\n",
      "[0.064]Dual{Float64}[(1.1826662488850403) + [-0.0012432267943249156ϵ]]\n",
      "0.8804369269715518\n",
      "[0.064]Dual{Float64}[(1.1826662488850403) + [0.3583459278732187ϵ]]\n",
      "0.8804369269715518\n",
      "[0.064]Dual{Float64}[(1.1826662488850403) + [0.038763899885789474ϵ]]\n",
      "0.8804369269715518\n",
      "[0.064]Dual{Float64}[(1.1826662488850403) + [0.4377817444633706ϵ]]\n",
      "0.8804369269715518\n",
      "[0.064]Dual{Float64}[(1.1826662488850403) + [0.9184847011172455ϵ]]\n",
      "0.8804369269715518\n",
      "[0.064]Dual{Float64}[(1.1826662488850403) + [0.5354658273892874ϵ]]\n",
      "0.8804369269715518\n",
      "[0.064]Dual{Float64}[(1.1826662488850403) + [0.3656279330057677ϵ]]\n",
      "0.6257070881972635\n",
      "0.880743500265083\n",
      "[0.064][1.0890074734382726]\n",
      "0.5253201603021556\n",
      "0.8810500735586141\n",
      "[0.064][0.9954328991258021]\n"
     ]
    }
   ],
   "source": [
    "dnet_Wh(x, wh, wh2, wo, y) = J(w -> net(x, w, wh2, wo, y), wh);\n",
    "dWh[:] = dnet_Wh(x, Wh[:], Wh2[:], Wo[:], y);\n",
    "\n",
    "dnet_Wh2(x, wh, wh2, wo, y) = J(w -> net(x, wh, w, wo, y), wh2);\n",
    "dWh2[:] = dnet_Wh2(x, Wh[:], Wh2[:], Wo[:], y);\n",
    "\n",
    "dnet_Wo(x, wh, wh2, wo, y) = J(w -> net(x, wh, wh2, w, y), wo);\n",
    "dWo[:] = dnet_Wo(x, Wh[:], Wh2[:], Wo[:], y);\n",
    "for i=1:2\n",
    "    push!(E, Ei)\n",
    "    println(Ei)\n",
    "    Wh .-= 0.04dWh\n",
    "    Wh2 .-= 0.04dWh2\n",
    "    Wo .-= 0.04dWo\n",
    "    Ei  = net(x, Wh[:], Wh2[:], Wo[:], y)\n",
    "end"
   ]
  },
  {
   "cell_type": "code",
   "execution_count": 61,
   "metadata": {},
   "outputs": [
    {
     "data": {
      "text/plain": [
       "10-element Vector{Float64}:\n",
       " 2.166096941040962\n",
       " 0.4395299389813892\n",
       " 0.006706030996402699\n",
       " 0.17921554984867658\n",
       " 0.8210407909483454\n",
       " 1.8833566986082655\n",
       " 3.314463769576946\n",
       " 5.06155014315852\n",
       " 7.078233414956745\n",
       " 9.328269218741724"
      ]
     },
     "metadata": {},
     "output_type": "display_data"
    }
   ],
   "source": [
    "E"
   ]
  },
  {
   "cell_type": "code",
   "execution_count": null,
   "metadata": {},
   "outputs": [],
   "source": []
  }
 ],
 "metadata": {
  "kernelspec": {
   "display_name": "Julia 1.10.1",
   "language": "julia",
   "name": "julia-1.10"
  },
  "language_info": {
   "file_extension": ".jl",
   "mimetype": "application/julia",
   "name": "julia",
   "version": "1.10.1"
  }
 },
 "nbformat": 4,
 "nbformat_minor": 2
}
