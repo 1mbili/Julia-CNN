{
 "cells": [
  {
   "cell_type": "code",
   "execution_count": 8,
   "metadata": {},
   "outputs": [],
   "source": [
    "struct Dual{T <: Number} <:Number\n",
    "    v::T\n",
    "    g::T    \n",
    "end\n",
    "\n",
    "import Base: +, -, /, *\n",
    "-(x1::Dual) = Dual(-x1.v, -x1.g)\n",
    "-(x1::Dual, x2::Dual) = Dual(x1.v - x2.v, x1.g - x2.g)\n",
    "+(x1::Dual, x2::Dual) = Dual(x1.v + x2.v, x1.g + x2.g)\n",
    "*(x1::Dual, x2::Dual) = Dual(x1.v * x2.v, x1.g*x2.v + x2.g*x1.v)\n",
    "/(x1::Dual, x2::Dual) = Dual(x1.v /x2 , (x2.v*x1.g - x1.v*g2)/(x2.v^2))\n",
    "import Base: abs, sin, cos, tan, exp, sqrt, isless\n",
    "abs(x::Dual)  = Dual(abs(x.v),sign(x.v)*x.dv)\n",
    "sin(x::Dual)  = Dual(sin(x.v), cos(x.v)*x.dv)\n",
    "cos(x::Dual)  = Dual(cos(x.v),-sin(x.v)*x.dv)\n",
    "tan(x::Dual)  = Dual(tan(x.v), one(x.v)*x.dv + tan(x.v)^2*x.dv)\n",
    "exp(x::Dual)  = Dual(exp(x.v), exp(x.v)*x.dv)\n",
    "sqrt(x::Dual) = Dual(sqrt(x.v),.5/sqrt(x.v) * x.dv)\n",
    "isless(x::Dual, y::Dual) = x.v < y.v;\n"
   ]
  },
  {
   "cell_type": "code",
   "execution_count": 9,
   "metadata": {},
   "outputs": [
    {
     "data": {
      "text/plain": [
       "promote_rule (generic function with 133 methods)"
      ]
     },
     "metadata": {},
     "output_type": "display_data"
    }
   ],
   "source": [
    "import Base: convert, promote_rule\n",
    "convert(::Type{Dual}, x::T) where T<:Real = Dual(x, zero(x))\n",
    "promote_rule(::Type{Dual}, ::Type{T}) where T<:Real = Dual\n"
   ]
  },
  {
   "cell_type": "code",
   "execution_count": 17,
   "metadata": {},
   "outputs": [],
   "source": [
    "value(x::Dual) = x.v;\n",
    "partials(x::Dual) = x.dv;"
   ]
  },
  {
   "cell_type": "code",
   "execution_count": 18,
   "metadata": {},
   "outputs": [
    {
     "ename": "ErrorException",
     "evalue": "promotion of types Float64 and Dual{Float64} failed to change any arguments",
     "output_type": "error",
     "traceback": [
      "promotion of types Float64 and Dual{Float64} failed to change any arguments\n",
      "\n",
      "Stacktrace:\n",
      " [1] error(::String, ::String, ::String)\n",
      "   @ Base .\\error.jl:44\n",
      " [2] sametype_error(input::Tuple{Float64, Dual{Float64}})\n",
      "   @ Base .\\promotion.jl:417\n",
      " [3] not_sametype(x::Tuple{Float64, Dual{Float64}}, y::Tuple{Float64, Dual{Float64}})\n",
      "   @ Base .\\promotion.jl:411\n",
      " [4] promote\n",
      "   @ .\\promotion.jl:394 [inlined]\n",
      " [5] +(x::Float64, y::Dual{Float64})\n",
      "   @ Base .\\promotion.jl:422\n",
      " [6] broadcasted(::Base.Broadcast.DefaultArrayStyle{1}, ::typeof(+), r::StepRangeLen{Float64, Base.TwicePrecision{Float64}, Base.TwicePrecision{Float64}, Int64}, x::Dual{Float64})\n",
      "   @ Base.Broadcast .\\broadcast.jl:1139\n",
      " [7] broadcasted(::typeof(+), ::StepRangeLen{Float64, Base.TwicePrecision{Float64}, Base.TwicePrecision{Float64}, Int64}, ::Dual{Float64})\n",
      "   @ Base.Broadcast .\\broadcast.jl:1347\n",
      " [8] top-level scope\n",
      "   @ d:\\Studia\\Chabrystyka\\dual.ipynb:4"
     ]
    }
   ],
   "source": [
    "f(x) = x > zero(x) ? x : zero(x)\n",
    "ϵ = Dual(0., 1.) # zarodek/seed\n",
    "x = -1.0:0.05:+1.0\n",
    "y = partials.(f.(x .+ ϵ))"
   ]
  },
  {
   "cell_type": "code",
   "execution_count": 12,
   "metadata": {},
   "outputs": [
    {
     "ename": "UndefVarError",
     "evalue": "UndefVarError: `DualNumber` not defined",
     "output_type": "error",
     "traceback": [
      "UndefVarError: `DualNumber` not defined\n",
      "\n",
      "Stacktrace:\n",
      " [1] top-level scope\n",
      "   @ d:\\Studia\\Chabrystyka\\dual.ipynb:1"
     ]
    }
   ],
   "source": [
    "DualNumber(4.6,1)"
   ]
  },
  {
   "cell_type": "code",
   "execution_count": null,
   "metadata": {},
   "outputs": [],
   "source": []
  }
 ],
 "metadata": {
  "kernelspec": {
   "display_name": "Julia 1.10.1",
   "language": "julia",
   "name": "julia-1.10"
  },
  "language_info": {
   "file_extension": ".jl",
   "mimetype": "application/julia",
   "name": "julia",
   "version": "1.10.1"
  }
 },
 "nbformat": 4,
 "nbformat_minor": 2
}
